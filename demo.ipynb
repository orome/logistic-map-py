{
 "cells": [
  {
   "cell_type": "code",
   "execution_count": 1,
   "metadata": {},
   "outputs": [],
   "source": [
    "# REV - # https://ipywidgets.readthedocs.io/en/latest/examples/Widget%20Styling.html\n",
    "\n",
    "# TBD - Frequency spectrum\n",
    "# TBD - Plot with fluctuating r"
   ]
  },
  {
   "cell_type": "markdown",
   "metadata": {},
   "source": [
    "The logistic map from an example in The [IPython Interactive Computing and Visualization Cookbook](https://ipython-books.github.io/121-plotting-the-bifurcation-diagram-of-a-chaotic-dynamical-system/)."
   ]
  },
  {
   "cell_type": "markdown",
   "metadata": {},
   "source": [
    "## Setup"
   ]
  },
  {
   "cell_type": "code",
   "execution_count": 1,
   "metadata": {},
   "outputs": [],
   "source": [
    "import numpy as np\n",
    "import matplotlib.pyplot as plt\n",
    "from itertools import accumulate, repeat\n",
    "from ipywidgets import interact, interactive, fixed, interact_manual\n",
    "import ipywidgets as widgets\n",
    "%matplotlib widget"
   ]
  },
  {
   "cell_type": "code",
   "execution_count": 2,
   "metadata": {},
   "outputs": [],
   "source": [
    "import plotstyles"
   ]
  },
  {
   "cell_type": "markdown",
   "metadata": {},
   "source": [
    "## Definition\n",
    "\n",
    "$$x_n = rx_{n-1}(1-x_{n-1}); n \\in \\mathbb {N}, x_n \\in \\mathbb{R}, r \\in \\mathbb{R} $$"
   ]
  },
  {
   "cell_type": "code",
   "execution_count": 3,
   "metadata": {},
   "outputs": [],
   "source": [
    "def logistic(r, x):\n",
    "    return r * x * (1 - x)"
   ]
  },
  {
   "cell_type": "markdown",
   "metadata": {},
   "source": [
    "## Approach"
   ]
  },
  {
   "cell_type": "markdown",
   "metadata": {},
   "source": [
    "The visualization has three figures, each of which shows `steps` successive iterations of $x_n$  values (as blue points) beginning with $x_0$ (`x0`, distinguished in outline) for a given $r$, `r`:\n",
    "\n",
    "- A (\"cobweb\") plot of the $x_n$ as a function of $x_{n-1}$ optionally showing the transitions between iterations, with either a connecting line or, a \"step\" that shows the change of role from $x_n$ to $x_{n-1}$ at each iteration. Also indicated is the logistic map for $x_{n-1} \\in [0,1]$.\n",
    "- A plot of the $x_n$ as a function of $r$ (thus all at `r`) in the context of a bifrucation diagram showing $x_n(r)$ for all $r \\in [r_l, 4.0]$, where $r_l$ is the lowest of $2.5$ or `r`, for 40 iterations starting at `bif_steps_min` (up to a maximum of 500). \n",
    "- A plot of the $x_n$ as a function of $n$, with lines connecting each iteration. "
   ]
  },
  {
   "cell_type": "markdown",
   "metadata": {},
   "source": [
    "## Visialization"
   ]
  },
  {
   "cell_type": "code",
   "execution_count": 4,
   "metadata": {},
   "outputs": [
    {
     "data": {
      "application/vnd.jupyter.widget-view+json": {
       "model_id": "c2b9a8a99b7f4461bf8530f4c761cf19",
       "version_major": 2,
       "version_minor": 0
      },
      "text/plain": [
       "Canvas(toolbar=Toolbar(toolitems=[('Home', 'Reset original view', 'home', 'home'), ('Back', 'Back to previous …"
      ]
     },
     "metadata": {},
     "output_type": "display_data"
    },
    {
     "data": {
      "application/vnd.jupyter.widget-view+json": {
       "model_id": "30a74f1d3ec4461284ea2491bfbc1153",
       "version_major": 2,
       "version_minor": 0
      },
      "text/plain": [
       "interactive(children=(FloatSlider(value=3.08, description='$r$', max=4.0, min=1.0, step=0.02), IntSlider(value…"
      ]
     },
     "metadata": {},
     "output_type": "display_data"
    }
   ],
   "source": [
    "bif_steps_max = 500\n",
    "bif_steps_show = 40\n",
    "\n",
    "fig, (web, bif, pop) = plt.subplots(1, 3, figsize=(12,4), sharey=True)\n",
    "fig.subplots_adjust(hspace=0, wspace=.02)\n",
    "\n",
    "bif.tick_params(axis=\"y\",direction=\"out\")\n",
    "pop.tick_params(axis=\"y\",direction=\"out\")\n",
    "\n",
    "@interact(r=widgets.FloatSlider(min=1, max=4, step=0.02, value=3.08, continuous_update=True,\n",
    "                               description='$r$'), \n",
    "          steps=widgets.IntSlider(min=2, max=500, step=1, value=20, continuous_update=True,\n",
    "                                 description='$n_{max}$'),  \n",
    "          x0=widgets.FloatSlider(min=0.1, max=1.0, step=0.1, value=0.1, continuous_update=True,\n",
    "                                description='$x_0$'), \n",
    "          bif_steps_min=widgets.IntSlider(min=0, max=bif_steps_max-bif_steps_show, step=1, value=bif_steps_max-bif_steps_show,\n",
    "                                          description='Min step in bifrucation:', style = {'description_width': 'initial'},\n",
    "                                          continuous_update=True),\n",
    "#           bif_steps_show=widgets.IntSlider(min=10, max=bif_steps_max, step=1, value=40,\n",
    "#                                           description='Steps shown in bifrucation:', style = {'description_width': 'initial'},\n",
    "#                                           continuous_update=True),\n",
    "          connect_points = widgets.Dropdown(options=[('Steps (web plot)', 'steps'), ('Lines', 'lines'), ('None (Poincaré plot)', 'none')], value='steps', \n",
    "                                            description='Web connections:', style = {'description_width': 'initial'}),\n",
    "          style = widgets.Dropdown(options=[('Mine', 'mine'), ('XKCD', 'xkcd'), ('None', 'none')], value='mine', \n",
    "                                   description='Plot style:', style = {'description_width': 'initial'})\n",
    "         )\n",
    "def plot_logistic(r, steps, x0, connect_points, bif_steps_min, style='mine'): \n",
    "\n",
    "    with plotstyles.my_styles(style):\n",
    "\n",
    "        fig.suptitle(f\"$x_n = r x_n (1-x_{{n-1}}); \\, x_0={x0:.2f}, \\,r={r:.2f}, \\,n \\in \\{{ 0,\\ldots,{steps} \\}}$\", fontsize=11)\n",
    "\n",
    "        # a list of the x value for each step up to the specified number of focus steps (in all three figures)\n",
    "        xs = [x for x in accumulate(repeat(x0, steps+1), lambda x, _:  logistic(r, x))]\n",
    "        # a list of lists of all the x values for every r beteeen 2.5 (or r) and 4.0 for steps up to bif_steps_max (for bif figure)\n",
    "        rs = np.linspace(min(2.5,r), 4.0, 10000)    \n",
    "        xs_rs = [x_rs for x_rs in accumulate(repeat(x0 * np.ones(len(rs)), bif_steps_max+1), lambda x, _:  logistic(rs, x))]  \n",
    "\n",
    "        web.clear()\n",
    "        bif.clear()\n",
    "        pop.clear()\n",
    "\n",
    "        web.set_title(\"$rx_{n-1}(1-x_{n-1}); \\, x_{n-1} ∈ [0,1]$\", fontsize=9, color='gray')\n",
    "        web.set_ylabel('$x_n$')\n",
    "        web.set_xlabel('$x_{n-1}$')\n",
    "        web.yaxis.set_major_formatter(plt.FuncFormatter(lambda x, _: f\"${x:.1f}$\"))\n",
    "        web.xaxis.set_major_formatter(plt.FuncFormatter(lambda x, _: f\"${x:.1f}$\"))\n",
    "\n",
    "        # phase (web) plot\n",
    "        xx = np.linspace(0, 1)\n",
    "        web.plot([0, 1], [0, 1], 'k', lw=2, alpha=0.04, ls=':')\n",
    "        web.plot(xx, logistic(r, xx), 'k', lw=2, alpha=0.04)\n",
    "\n",
    "        if connect_points == 'lines':\n",
    "            web.plot([x0] + xs[:-1], xs, 'k', lw=0.5, alpha=0.2)\n",
    "        elif connect_points == 'steps':   \n",
    "            #xs_dup= list(sum(zip(xs,xs), ()))\n",
    "            xs_dup = np.repeat(xs, 2)\n",
    "            web.plot(xs_dup[:-2], xs_dup[1:-1], 'k', lw=0.5, alpha=0.2) \n",
    "\n",
    "        web.plot([x0] + xs[:-1], xs, 'wo', ms=5, mew=0.0)   # Whiteout behind the points, including x0\n",
    "        web.plot([x0],[x0], 'bo', ms=4, alpha=0.25, mew=1.0, fillstyle='none') # x0\n",
    "        web.plot(xs[:-1], xs[1:], 'bo', ms=5, alpha=0.25, mew=0.0) # alpha=2 /steps\n",
    "\n",
    "        # bifrucation plot\n",
    "        bif.set_title(f\"$x_n(r); \\, n\\in \\{{ {bif_steps_min},\\ldots,{bif_steps_min + bif_steps_show} \\}}$\", fontsize=9, color='gray')\n",
    "        bif.set_xlabel('$r$')\n",
    "        bif.xaxis.set_major_formatter(plt.FuncFormatter(lambda x, _: f\"${x:.2f}$\"))\n",
    "\n",
    "        for x_rs in xs_rs[bif_steps_min : bif_steps_min + bif_steps_show]:\n",
    "            bif.plot(rs, x_rs, ',k', alpha=.025)\n",
    "\n",
    "        bif.plot([r], [x0], 'bo', ms=3, alpha=.2, mew=1.0, fillstyle='none')\n",
    "        bif.plot([r]*len(xs[1:]), xs[1:], 'bo', ms=4, alpha=.2, mew=0.0) \n",
    "\n",
    "        # population plot\n",
    "        pop.set_xlabel('$n$')\n",
    "        pop.xaxis.set_major_formatter(plt.FuncFormatter(lambda x, _: f\"${x:.0f}$\"))\n",
    "\n",
    "        pop.plot(range(steps+1), xs, 'k-', lw=0.5, alpha=0.25)  # Lines\n",
    "        pop.plot(range(steps+1), xs, 'wo', ms=5, mew=0.0)   # Whiteout behind the points, including x0\n",
    "        pop.plot([0], [x0], 'bo', ms=4, alpha=0.25, mew=1.0, fillstyle='none') # x0\n",
    "        pop.plot(range(1, steps+1), xs[1:], 'bo', ms=5, alpha=0.25, mew=0.0) "
   ]
  },
  {
   "cell_type": "code",
   "execution_count": null,
   "metadata": {},
   "outputs": [],
   "source": []
  }
 ],
 "metadata": {
  "kernelspec": {
   "display_name": "dataviz (Python 3, venv)",
   "language": "python",
   "name": "dataviz_env"
  },
  "language_info": {
   "codemirror_mode": {
    "name": "ipython",
    "version": 3
   },
   "file_extension": ".py",
   "mimetype": "text/x-python",
   "name": "python",
   "nbconvert_exporter": "python",
   "pygments_lexer": "ipython3",
   "version": "3.9.6"
  },
  "widgets": {
   "application/vnd.jupyter.widget-state+json": {
    "state": {
     "066b3031631641dc82b7f972755f05aa": {
      "model_module": "@jupyter-widgets/controls",
      "model_module_version": "1.5.0",
      "model_name": "SliderStyleModel",
      "state": {
       "description_width": ""
      }
     },
     "0b2a401305a14114a4de4d820dfe1536": {
      "model_module": "@jupyter-widgets/base",
      "model_module_version": "1.2.0",
      "model_name": "LayoutModel",
      "state": {}
     },
     "1199c1e51f1547e68a3cb2a76e4d69af": {
      "model_module": "@jupyter-widgets/controls",
      "model_module_version": "1.5.0",
      "model_name": "IntSliderModel",
      "state": {
       "description": "$n_{max}$",
       "layout": "IPY_MODEL_e31e3a843a974ca4b060e40709503562",
       "max": 500,
       "min": 2,
       "style": "IPY_MODEL_6fc96c206ee94a089649fbea361442e8",
       "value": 20
      }
     },
     "14a0273a06da4b6ea0adc74c6c244619": {
      "model_module": "@jupyter-widgets/base",
      "model_module_version": "1.2.0",
      "model_name": "LayoutModel",
      "state": {}
     },
     "1dcd74ad359248caba21794e62687dd9": {
      "model_module": "@jupyter-widgets/controls",
      "model_module_version": "1.5.0",
      "model_name": "DropdownModel",
      "state": {
       "_options_labels": [
        "Mine",
        "XKCD",
        "None"
       ],
       "description": "Plot style:",
       "index": 0,
       "layout": "IPY_MODEL_af1e42f3724546c195fdeb6476d69e4a",
       "style": "IPY_MODEL_7d4f3894600045928ca9b4f9addeae7a"
      }
     },
     "2a5b390871244f87a7714a16820acbc7": {
      "model_module": "@jupyter-widgets/controls",
      "model_module_version": "1.5.0",
      "model_name": "DropdownModel",
      "state": {
       "_options_labels": [
        "Steps (web plot)",
        "Lines",
        "None (Poincaré plot)"
       ],
       "description": "Web connections:",
       "index": 0,
       "layout": "IPY_MODEL_0b2a401305a14114a4de4d820dfe1536",
       "style": "IPY_MODEL_e891befa91954ed890ce448d55c666ff"
      }
     },
     "30a74f1d3ec4461284ea2491bfbc1153": {
      "model_module": "@jupyter-widgets/controls",
      "model_module_version": "1.5.0",
      "model_name": "VBoxModel",
      "state": {
       "_dom_classes": [
        "widget-interact"
       ],
       "children": [
        "IPY_MODEL_3ec449f9fadd4f50b999edf1319f26ce",
        "IPY_MODEL_1199c1e51f1547e68a3cb2a76e4d69af",
        "IPY_MODEL_ad941d5d219c4abc9e53519ad8525b3c",
        "IPY_MODEL_2a5b390871244f87a7714a16820acbc7",
        "IPY_MODEL_476acd5916f042af95c3039650f0d200",
        "IPY_MODEL_1dcd74ad359248caba21794e62687dd9",
        "IPY_MODEL_955cbd03d4c34a6d859fe492aba007e8"
       ],
       "layout": "IPY_MODEL_14a0273a06da4b6ea0adc74c6c244619"
      }
     },
     "3ec449f9fadd4f50b999edf1319f26ce": {
      "model_module": "@jupyter-widgets/controls",
      "model_module_version": "1.5.0",
      "model_name": "FloatSliderModel",
      "state": {
       "description": "$r$",
       "layout": "IPY_MODEL_fcd909bd80754907ad06bace614512c1",
       "max": 4,
       "min": 1,
       "step": 0.02,
       "style": "IPY_MODEL_b0cfc06d32ac4619af383fa611013e1d",
       "value": 3.4
      }
     },
     "476acd5916f042af95c3039650f0d200": {
      "model_module": "@jupyter-widgets/controls",
      "model_module_version": "1.5.0",
      "model_name": "IntSliderModel",
      "state": {
       "description": "Min step in bifrucation:",
       "layout": "IPY_MODEL_f6cbb8c18c8946a898b015ba61ea45e5",
       "max": 460,
       "style": "IPY_MODEL_4bcca1836bad4d6e94e459ebb581c268",
       "value": 460
      }
     },
     "4bcca1836bad4d6e94e459ebb581c268": {
      "model_module": "@jupyter-widgets/controls",
      "model_module_version": "1.5.0",
      "model_name": "SliderStyleModel",
      "state": {
       "description_width": "initial"
      }
     },
     "622a2a3ba2b4426eb2c50a23e1eade72": {
      "model_module": "jupyter-matplotlib",
      "model_module_version": "^0.9.0",
      "model_name": "ToolbarModel",
      "state": {
       "_current_action": "zoom",
       "layout": "IPY_MODEL_9aeada79b3694e6dbf703bd0ffe00e34",
       "toolitems": [
        [
         "Home",
         "Reset original view",
         "home",
         "home"
        ],
        [
         "Back",
         "Back to previous view",
         "arrow-left",
         "back"
        ],
        [
         "Forward",
         "Forward to next view",
         "arrow-right",
         "forward"
        ],
        [
         "Pan",
         "Left button pans, Right button zooms\nx/y fixes axis, CTRL fixes aspect",
         "arrows",
         "pan"
        ],
        [
         "Zoom",
         "Zoom to rectangle\nx/y fixes axis, CTRL fixes aspect",
         "square-o",
         "zoom"
        ],
        [
         "Download",
         "Download plot",
         "floppy-o",
         "save_figure"
        ]
       ]
      }
     },
     "679a33be7ef64b3a93553274d8c586a9": {
      "model_module": "@jupyter-widgets/base",
      "model_module_version": "1.2.0",
      "model_name": "LayoutModel",
      "state": {}
     },
     "6fc96c206ee94a089649fbea361442e8": {
      "model_module": "@jupyter-widgets/controls",
      "model_module_version": "1.5.0",
      "model_name": "SliderStyleModel",
      "state": {
       "description_width": ""
      }
     },
     "7d4f3894600045928ca9b4f9addeae7a": {
      "model_module": "@jupyter-widgets/controls",
      "model_module_version": "1.5.0",
      "model_name": "DescriptionStyleModel",
      "state": {
       "description_width": "initial"
      }
     },
     "955cbd03d4c34a6d859fe492aba007e8": {
      "model_module": "@jupyter-widgets/output",
      "model_module_version": "1.0.0",
      "model_name": "OutputModel",
      "state": {
       "layout": "IPY_MODEL_e08d12591a3045418fc203743032e63f"
      }
     },
     "9aeada79b3694e6dbf703bd0ffe00e34": {
      "model_module": "@jupyter-widgets/base",
      "model_module_version": "1.2.0",
      "model_name": "LayoutModel",
      "state": {}
     },
     "ad941d5d219c4abc9e53519ad8525b3c": {
      "model_module": "@jupyter-widgets/controls",
      "model_module_version": "1.5.0",
      "model_name": "FloatSliderModel",
      "state": {
       "description": "$x_0$",
       "layout": "IPY_MODEL_679a33be7ef64b3a93553274d8c586a9",
       "max": 1,
       "min": 0.1,
       "step": 0.1,
       "style": "IPY_MODEL_066b3031631641dc82b7f972755f05aa",
       "value": 0.1
      }
     },
     "af1e42f3724546c195fdeb6476d69e4a": {
      "model_module": "@jupyter-widgets/base",
      "model_module_version": "1.2.0",
      "model_name": "LayoutModel",
      "state": {}
     },
     "b0cfc06d32ac4619af383fa611013e1d": {
      "model_module": "@jupyter-widgets/controls",
      "model_module_version": "1.5.0",
      "model_name": "SliderStyleModel",
      "state": {
       "description_width": ""
      }
     },
     "c2b9a8a99b7f4461bf8530f4c761cf19": {
      "model_module": "jupyter-matplotlib",
      "model_module_version": "^0.9.0",
      "model_name": "MPLCanvasModel",
      "state": {
       "_cursor": "crosshair",
       "_figure_label": "Figure 1",
       "_height": 400,
       "_image_mode": "diff",
       "_message": "x=$0.6$ y=$0.8$",
       "_rubberband_y": 400,
       "_width": 1200,
       "layout": "IPY_MODEL_e0a18da4540046cfb436fc493a2b0c54",
       "toolbar": "IPY_MODEL_622a2a3ba2b4426eb2c50a23e1eade72",
       "toolbar_position": "left"
      }
     },
     "e08d12591a3045418fc203743032e63f": {
      "model_module": "@jupyter-widgets/base",
      "model_module_version": "1.2.0",
      "model_name": "LayoutModel",
      "state": {}
     },
     "e0a18da4540046cfb436fc493a2b0c54": {
      "model_module": "@jupyter-widgets/base",
      "model_module_version": "1.2.0",
      "model_name": "LayoutModel",
      "state": {}
     },
     "e31e3a843a974ca4b060e40709503562": {
      "model_module": "@jupyter-widgets/base",
      "model_module_version": "1.2.0",
      "model_name": "LayoutModel",
      "state": {}
     },
     "e891befa91954ed890ce448d55c666ff": {
      "model_module": "@jupyter-widgets/controls",
      "model_module_version": "1.5.0",
      "model_name": "DescriptionStyleModel",
      "state": {
       "description_width": "initial"
      }
     },
     "f6cbb8c18c8946a898b015ba61ea45e5": {
      "model_module": "@jupyter-widgets/base",
      "model_module_version": "1.2.0",
      "model_name": "LayoutModel",
      "state": {}
     },
     "fcd909bd80754907ad06bace614512c1": {
      "model_module": "@jupyter-widgets/base",
      "model_module_version": "1.2.0",
      "model_name": "LayoutModel",
      "state": {}
     }
    },
    "version_major": 2,
    "version_minor": 0
   }
  }
 },
 "nbformat": 4,
 "nbformat_minor": 4
}
