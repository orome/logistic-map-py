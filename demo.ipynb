{
 "cells": [
  {
   "cell_type": "markdown",
   "metadata": {},
   "source": [
    "The logistic map from an example in The [IPython Interactive Computing and Visualization Cookbook](https://ipython-books.github.io/121-plotting-the-bifurcation-diagram-of-a-chaotic-dynamical-system/)."
   ]
  },
  {
   "cell_type": "markdown",
   "metadata": {},
   "source": [
    "## Setup"
   ]
  },
  {
   "cell_type": "code",
   "execution_count": 1,
   "metadata": {},
   "outputs": [],
   "source": [
    "import numpy as np\n",
    "import matplotlib.pyplot as plt\n",
    "from itertools import accumulate, repeat\n",
    "from ipywidgets import interact, interactive, fixed, interact_manual\n",
    "import ipywidgets as widgets\n",
    "%matplotlib widget"
   ]
  },
  {
   "cell_type": "markdown",
   "metadata": {},
   "source": [
    "## Definition\n",
    "\n",
    "$$x_n = rx_{n-1}(1-x_{n-1}); n \\in \\mathbb {N}, x_n \\in \\mathbb{R}, r \\in \\mathbb{R} $$"
   ]
  },
  {
   "cell_type": "code",
   "execution_count": 5,
   "metadata": {},
   "outputs": [],
   "source": [
    "def logistic(r, x):\n",
    "    return r * x * (1 - x)"
   ]
  },
  {
   "cell_type": "markdown",
   "metadata": {},
   "source": [
    "## Approach"
   ]
  },
  {
   "cell_type": "markdown",
   "metadata": {},
   "source": [
    "The visualization has three figures, each of which shows `steps` successive iterations of $x_n$  values (as blue points) beginning with $x_0$ (`x0`, distinguished in outline) for a given $r$, `r`:\n",
    "\n",
    "- A (\"cobweb\") plot of the $x_n$ as a function of $x_{n-1}$ optionally showing the transitions between iterations, with either a connecting line or, a \"step\" that shows the change of role from $x_n$ to $x_{n-1}$ at each iteration. Also indicated is the logistic map for $x_{n-1} \\in [0,1]$.\n",
    "- A plot of the $x_n$ as a function of $r$ (thus all at `r`) in the context of a bifrucation diagram showing $x_n(r)$ for all $r \\in [r_l, 4.0]$, where $r_l$ is the lowest of $2.5$ or `r`, for 40 iterations starting at `bif_steps_min` (up to a maximum of 500). \n",
    "- A plot of the $x_n$ as a function of $n$, with lines connecting each iteration. "
   ]
  },
  {
   "cell_type": "markdown",
   "metadata": {},
   "source": [
    "## Visialization"
   ]
  },
  {
   "cell_type": "code",
   "execution_count": 8,
   "metadata": {},
   "outputs": [
    {
     "data": {
      "application/vnd.jupyter.widget-view+json": {
       "model_id": "8cbe912395004f878a80e44ad72f0ef5",
       "version_major": 2,
       "version_minor": 0
      },
      "text/plain": [
       "Canvas(toolbar=Toolbar(toolitems=[('Home', 'Reset original view', 'home', 'home'), ('Back', 'Back to previous …"
      ]
     },
     "metadata": {},
     "output_type": "display_data"
    },
    {
     "data": {
      "application/vnd.jupyter.widget-view+json": {
       "model_id": "1703ffd4a9fa4989851c4437acbe576a",
       "version_major": 2,
       "version_minor": 0
      },
      "text/plain": [
       "interactive(children=(FloatSlider(value=3.08, description='$r$', max=4.0, min=1.0, step=0.02), IntSlider(value…"
      ]
     },
     "metadata": {},
     "output_type": "display_data"
    }
   ],
   "source": [
    "bif_steps_max = 500\n",
    "bif_steps_show = 40\n",
    "\n",
    "fig, (web, bif, pop) = plt.subplots(1, 3, figsize=(12,4), sharey=True)\n",
    "fig.subplots_adjust(hspace=0, wspace=.02)\n",
    "\n",
    "bif.tick_params(axis=\"y\",direction=\"out\")\n",
    "pop.tick_params(axis=\"y\",direction=\"out\")\n",
    "\n",
    "@interact(r=widgets.FloatSlider(min=1, max=4, step=0.02, value=3.08, continuous_update=True,\n",
    "                               description='$r$'), \n",
    "          steps=widgets.IntSlider(min=2, max=500, step=1, value=20, continuous_update=True,\n",
    "                                 description='$n_{max}$'),  \n",
    "          x0=widgets.FloatSlider(min=0.1, max=1.0, step=0.1, value=0.1, continuous_update=True,\n",
    "                                description='$x_0$'), \n",
    "          bif_steps_min=widgets.IntSlider(min=0, max=bif_steps_max-bif_steps_show, step=1, value=bif_steps_max-bif_steps_show,\n",
    "                                          description='Min step in bifrucation:', style = {'description_width': 'initial'},\n",
    "                                          continuous_update=True),\n",
    "#           bif_steps_show=widgets.IntSlider(min=10, max=bif_steps_max, step=1, value=40,\n",
    "#                                           description='Steps shown in bifrucation:', style = {'description_width': 'initial'},\n",
    "#                                           continuous_update=True),\n",
    "          connect_points = widgets.Dropdown(options=[('Steps (web plot)', 'steps'), ('Lines', 'lines'), ('None (Poincaré plot)', 'none')], value='steps', \n",
    "                                            description='Web connections:', style = {'description_width': 'initial'})\n",
    "         )\n",
    "def plot_logistic(r, steps, x0, connect_points, bif_steps_min): #, style='mine'\n",
    "\n",
    "    fig.suptitle(f\"$x_n = r x_n (1-x_{{n-1}}); \\, x_0={x0:.2f}, \\,r={r:.2f}, \\,n \\in \\{{ 0,\\ldots,{steps} \\}}$\", fontsize=11)\n",
    "\n",
    "    # a list of the x value for each step up to the specified number of focus steps (in all three figures)\n",
    "    xs = [x for x in accumulate(repeat(x0, steps+1), lambda x, _:  logistic(r, x))]\n",
    "    # a list of lists of all the x values for every r beteeen 2.5 (or r) and 4.0 for steps up to bif_steps_max (for bif figure)\n",
    "    rs = np.linspace(min(2.5,r), 4.0, 10000)    \n",
    "    xs_rs = [x_rs for x_rs in accumulate(repeat(x0 * np.ones(len(rs)), bif_steps_max+1), lambda x, _:  logistic(rs, x))]  \n",
    "\n",
    "    web.clear()\n",
    "    bif.clear()\n",
    "    pop.clear()\n",
    "\n",
    "    web.set_title(\"$rx_{n-1}(1-x_{n-1}); \\, x_{n-1} ∈ [0,1]$\", fontsize=9, color='gray')\n",
    "    web.set_ylabel('$x_n$')\n",
    "    web.set_xlabel('$x_{n-1}$')\n",
    "    web.yaxis.set_major_formatter(plt.FuncFormatter(lambda x, _: f\"${x:.1f}$\"))\n",
    "    web.xaxis.set_major_formatter(plt.FuncFormatter(lambda x, _: f\"${x:.1f}$\"))\n",
    "\n",
    "    # phase (web) plot\n",
    "    xx = np.linspace(0, 1)\n",
    "    web.plot([0, 1], [0, 1], 'k', lw=2, alpha=0.04, ls=':')\n",
    "    web.plot(xx, logistic(r, xx), 'k', lw=2, alpha=0.04)\n",
    "\n",
    "    if connect_points == 'lines':\n",
    "        web.plot([x0] + xs[:-1], xs, 'k', lw=0.5, alpha=0.2)\n",
    "    elif connect_points == 'steps':   \n",
    "        #xs_dup= list(sum(zip(xs,xs), ()))\n",
    "        xs_dup = np.repeat(xs, 2)\n",
    "        web.plot(xs_dup[:-2], xs_dup[1:-1], 'k', lw=0.5, alpha=0.2) \n",
    "\n",
    "    web.plot([x0] + xs[:-1], xs, 'wo', ms=5, mew=0.0)   # Whiteout behind the points, including x0\n",
    "    web.plot([x0],[x0], 'bo', ms=4, alpha=0.25, mew=1.0, fillstyle='none') # x0\n",
    "    web.plot(xs[:-1], xs[1:], 'bo', ms=5, alpha=0.25, mew=0.0) # alpha=2 /steps\n",
    "\n",
    "    # bifrucation plot\n",
    "    bif.set_title(f\"$x_n(r); \\, n\\in \\{{ {bif_steps_min},\\ldots,{bif_steps_min + bif_steps_show} \\}}$\", fontsize=9, color='gray')\n",
    "    bif.set_xlabel('$r$')\n",
    "    bif.xaxis.set_major_formatter(plt.FuncFormatter(lambda x, _: f\"${x:.2f}$\"))\n",
    "\n",
    "    for x_rs in xs_rs[bif_steps_min : bif_steps_min + bif_steps_show]:\n",
    "        bif.plot(rs, x_rs, ',k', alpha=.025)\n",
    "\n",
    "    bif.plot([r], [x0], 'bo', ms=3, alpha=.2, mew=1.0, fillstyle='none')\n",
    "    bif.plot([r]*len(xs[1:]), xs[1:], 'bo', ms=4, alpha=.2, mew=0.0) \n",
    "\n",
    "    # population plot\n",
    "    pop.set_xlabel('$n$')\n",
    "    pop.xaxis.set_major_formatter(plt.FuncFormatter(lambda x, _: f\"${x:.0f}$\"))\n",
    "\n",
    "    pop.plot(range(steps+1), xs, 'k-', lw=0.5, alpha=0.25)  # Lines\n",
    "    pop.plot(range(steps+1), xs, 'wo', ms=5, mew=0.0)   # Whiteout behind the points, including x0\n",
    "    pop.plot([0], [x0], 'bo', ms=4, alpha=0.25, mew=1.0, fillstyle='none') # x0\n",
    "    pop.plot(range(1, steps+1), xs[1:], 'bo', ms=5, alpha=0.25, mew=0.0) "
   ]
  },
  {
   "cell_type": "code",
   "execution_count": null,
   "metadata": {},
   "outputs": [],
   "source": []
  },
  {
   "cell_type": "code",
   "execution_count": null,
   "metadata": {},
   "outputs": [],
   "source": []
  }
 ],
 "metadata": {
  "kernelspec": {
   "display_name": "logisticmap (Python 3, venv)",
   "language": "python",
   "name": "logisticmap_env"
  },
  "language_info": {
   "codemirror_mode": {
    "name": "ipython",
    "version": 3
   },
   "file_extension": ".py",
   "mimetype": "text/x-python",
   "name": "python",
   "nbconvert_exporter": "python",
   "pygments_lexer": "ipython3",
   "version": "3.9.6"
  },
  "widgets": {
   "application/vnd.jupyter.widget-state+json": {
    "state": {
     "0057cd0009624e599dc874e1ae91d3ba": {
      "model_module": "@jupyter-widgets/base",
      "model_module_version": "1.2.0",
      "model_name": "LayoutModel",
      "state": {}
     },
     "01004a3225ce404fb36e9c931f2542f4": {
      "model_module": "@jupyter-widgets/controls",
      "model_module_version": "1.5.0",
      "model_name": "FloatSliderModel",
      "state": {
       "description": "$x_0$",
       "layout": "IPY_MODEL_7186fb359e1d45b5b7e7dfa7aa2d003b",
       "max": 1,
       "min": 0.1,
       "step": 0.1,
       "style": "IPY_MODEL_2a7e546165b24f0cb125fb0193fe6b6a",
       "value": 0.1
      }
     },
     "03ad284508f44fd8adff4b9ce75d0e76": {
      "model_module": "@jupyter-widgets/controls",
      "model_module_version": "1.5.0",
      "model_name": "IntSliderModel",
      "state": {
       "description": "Min step in bifrucation:",
       "layout": "IPY_MODEL_44efab9710da416fa1311453e6982036",
       "max": 460,
       "style": "IPY_MODEL_e00a387c82aa423dac94a3bdd0d04aa1",
       "value": 460
      }
     },
     "059fd5f81e4240a8b00b9ebf11ed321f": {
      "model_module": "@jupyter-widgets/controls",
      "model_module_version": "1.5.0",
      "model_name": "DropdownModel",
      "state": {
       "_options_labels": [
        "Steps (web plot)",
        "Lines",
        "None (Poincaré plot)"
       ],
       "description": "Web connections:",
       "index": 0,
       "layout": "IPY_MODEL_42eef7d2d26d4eca8ccfd79f5e75001b",
       "style": "IPY_MODEL_3503224263fa4be0b94224f026829001"
      }
     },
     "07bcd94c9bd4419d993b24fab9966c34": {
      "model_module": "@jupyter-widgets/base",
      "model_module_version": "1.2.0",
      "model_name": "LayoutModel",
      "state": {}
     },
     "084c79cb7ba74edeaf690df8635c1e3d": {
      "model_module": "@jupyter-widgets/controls",
      "model_module_version": "1.5.0",
      "model_name": "SliderStyleModel",
      "state": {
       "description_width": ""
      }
     },
     "08d3fc666e574900afd719b90bcd5852": {
      "model_module": "@jupyter-widgets/controls",
      "model_module_version": "1.5.0",
      "model_name": "SliderStyleModel",
      "state": {
       "description_width": ""
      }
     },
     "0d3cd35428f545778745646b7ea9f14c": {
      "model_module": "@jupyter-widgets/controls",
      "model_module_version": "1.5.0",
      "model_name": "IntSliderModel",
      "state": {
       "description": "$n_{max}$",
       "layout": "IPY_MODEL_50bfa8c37a4d47268e89aebe3f0255ba",
       "max": 500,
       "min": 2,
       "style": "IPY_MODEL_4fba023484e64308a66422ac7de3d220",
       "value": 20
      }
     },
     "0f914ed726a1466f93e33bef66fda2d2": {
      "model_module": "@jupyter-widgets/base",
      "model_module_version": "1.2.0",
      "model_name": "LayoutModel",
      "state": {}
     },
     "0fdd1ecc4ec343eebb9d2e3828625dea": {
      "model_module": "@jupyter-widgets/output",
      "model_module_version": "1.0.0",
      "model_name": "OutputModel",
      "state": {
       "layout": "IPY_MODEL_5b974d82916542209ff6c12ba90ed08b",
       "outputs": [
        {
         "ename": "AttributeError",
         "evalue": "args",
         "output_type": "error",
         "traceback": [
          "\u001b[0;31m---------------------------------------------------------------------------\u001b[0m",
          "\u001b[0;31mAttributeError\u001b[0m                            Traceback (most recent call last)",
          "\u001b[0;32m~/Documents/Projects/Coding/Python/venvs/logisticmap/lib/python3.9/site-packages/ipywidgets/widgets/interaction.py\u001b[0m in \u001b[0;36mupdate\u001b[0;34m(self, *args)\u001b[0m\n\u001b[1;32m    254\u001b[0m                     \u001b[0mvalue\u001b[0m \u001b[0;34m=\u001b[0m \u001b[0mwidget\u001b[0m\u001b[0;34m.\u001b[0m\u001b[0mget_interact_value\u001b[0m\u001b[0;34m(\u001b[0m\u001b[0;34m)\u001b[0m\u001b[0;34m\u001b[0m\u001b[0;34m\u001b[0m\u001b[0m\n\u001b[1;32m    255\u001b[0m                     \u001b[0mself\u001b[0m\u001b[0;34m.\u001b[0m\u001b[0mkwargs\u001b[0m\u001b[0;34m[\u001b[0m\u001b[0mwidget\u001b[0m\u001b[0;34m.\u001b[0m\u001b[0m_kwarg\u001b[0m\u001b[0;34m]\u001b[0m \u001b[0;34m=\u001b[0m \u001b[0mvalue\u001b[0m\u001b[0;34m\u001b[0m\u001b[0;34m\u001b[0m\u001b[0m\n\u001b[0;32m--> 256\u001b[0;31m                 \u001b[0mself\u001b[0m\u001b[0;34m.\u001b[0m\u001b[0mresult\u001b[0m \u001b[0;34m=\u001b[0m \u001b[0mself\u001b[0m\u001b[0;34m.\u001b[0m\u001b[0mf\u001b[0m\u001b[0;34m(\u001b[0m\u001b[0;34m**\u001b[0m\u001b[0mself\u001b[0m\u001b[0;34m.\u001b[0m\u001b[0mkwargs\u001b[0m\u001b[0;34m)\u001b[0m\u001b[0;34m\u001b[0m\u001b[0;34m\u001b[0m\u001b[0m\n\u001b[0m\u001b[1;32m    257\u001b[0m                 \u001b[0mshow_inline_matplotlib_plots\u001b[0m\u001b[0;34m(\u001b[0m\u001b[0;34m)\u001b[0m\u001b[0;34m\u001b[0m\u001b[0;34m\u001b[0m\u001b[0m\n\u001b[1;32m    258\u001b[0m                 \u001b[0;32mif\u001b[0m \u001b[0mself\u001b[0m\u001b[0;34m.\u001b[0m\u001b[0mauto_display\u001b[0m \u001b[0;32mand\u001b[0m \u001b[0mself\u001b[0m\u001b[0;34m.\u001b[0m\u001b[0mresult\u001b[0m \u001b[0;32mis\u001b[0m \u001b[0;32mnot\u001b[0m \u001b[0;32mNone\u001b[0m\u001b[0;34m:\u001b[0m\u001b[0;34m\u001b[0m\u001b[0;34m\u001b[0m\u001b[0m\n",
          "\u001b[0;32m/var/folders/b6/3rk65h797p7407x7d36sqn9c0000gn/T/ipykernel_87662/2286399894.py\u001b[0m in \u001b[0;36mplot_logistic\u001b[0;34m(r, steps, x0, connect_points, bif_steps_min)\u001b[0m\n\u001b[1;32m     32\u001b[0m \u001b[0;32mdef\u001b[0m \u001b[0mplot_logistic\u001b[0m\u001b[0;34m(\u001b[0m\u001b[0mr\u001b[0m\u001b[0;34m,\u001b[0m \u001b[0msteps\u001b[0m\u001b[0;34m,\u001b[0m \u001b[0mx0\u001b[0m\u001b[0;34m,\u001b[0m \u001b[0mconnect_points\u001b[0m\u001b[0;34m,\u001b[0m \u001b[0mbif_steps_min\u001b[0m\u001b[0;34m)\u001b[0m\u001b[0;34m:\u001b[0m \u001b[0;31m#, style='mine'\u001b[0m\u001b[0;34m\u001b[0m\u001b[0;34m\u001b[0m\u001b[0m\n\u001b[1;32m     33\u001b[0m \u001b[0;34m\u001b[0m\u001b[0m\n\u001b[0;32m---> 34\u001b[0;31m     \u001b[0;32mwith\u001b[0m \u001b[0mdemo_style\u001b[0m\u001b[0;34m:\u001b[0m\u001b[0;34m\u001b[0m\u001b[0;34m\u001b[0m\u001b[0m\n\u001b[0m\u001b[1;32m     35\u001b[0m \u001b[0;34m\u001b[0m\u001b[0m\n\u001b[1;32m     36\u001b[0m         \u001b[0mfig\u001b[0m\u001b[0;34m.\u001b[0m\u001b[0msuptitle\u001b[0m\u001b[0;34m(\u001b[0m\u001b[0;34mf\"$x_n = r x_n (1-x_{{n-1}}); \\, x_0={x0:.2f}, \\,r={r:.2f}, \\,n \\in \\{{ 0,\\ldots,{steps} \\}}$\"\u001b[0m\u001b[0;34m,\u001b[0m \u001b[0mfontsize\u001b[0m\u001b[0;34m=\u001b[0m\u001b[0;36m11\u001b[0m\u001b[0;34m)\u001b[0m\u001b[0;34m\u001b[0m\u001b[0;34m\u001b[0m\u001b[0m\n",
          "\u001b[0;32m/usr/local/Cellar/python@3.9/3.9.6/Frameworks/Python.framework/Versions/3.9/lib/python3.9/contextlib.py\u001b[0m in \u001b[0;36m__enter__\u001b[0;34m(self)\u001b[0m\n\u001b[1;32m    113\u001b[0m         \u001b[0;31m# do not keep args and kwds alive unnecessarily\u001b[0m\u001b[0;34m\u001b[0m\u001b[0;34m\u001b[0m\u001b[0;34m\u001b[0m\u001b[0m\n\u001b[1;32m    114\u001b[0m         \u001b[0;31m# they are only needed for recreation, which is not possible anymore\u001b[0m\u001b[0;34m\u001b[0m\u001b[0;34m\u001b[0m\u001b[0;34m\u001b[0m\u001b[0m\n\u001b[0;32m--> 115\u001b[0;31m         \u001b[0;32mdel\u001b[0m \u001b[0mself\u001b[0m\u001b[0;34m.\u001b[0m\u001b[0margs\u001b[0m\u001b[0;34m,\u001b[0m \u001b[0mself\u001b[0m\u001b[0;34m.\u001b[0m\u001b[0mkwds\u001b[0m\u001b[0;34m,\u001b[0m \u001b[0mself\u001b[0m\u001b[0;34m.\u001b[0m\u001b[0mfunc\u001b[0m\u001b[0;34m\u001b[0m\u001b[0;34m\u001b[0m\u001b[0m\n\u001b[0m\u001b[1;32m    116\u001b[0m         \u001b[0;32mtry\u001b[0m\u001b[0;34m:\u001b[0m\u001b[0;34m\u001b[0m\u001b[0;34m\u001b[0m\u001b[0m\n\u001b[1;32m    117\u001b[0m             \u001b[0;32mreturn\u001b[0m \u001b[0mnext\u001b[0m\u001b[0;34m(\u001b[0m\u001b[0mself\u001b[0m\u001b[0;34m.\u001b[0m\u001b[0mgen\u001b[0m\u001b[0;34m)\u001b[0m\u001b[0;34m\u001b[0m\u001b[0;34m\u001b[0m\u001b[0m\n",
          "\u001b[0;31mAttributeError\u001b[0m: args"
         ]
        }
       ]
      }
     },
     "10ea78e5ca1844a8a9d90fa8dce7c1f6": {
      "model_module": "@jupyter-widgets/controls",
      "model_module_version": "1.5.0",
      "model_name": "SliderStyleModel",
      "state": {
       "description_width": "initial"
      }
     },
     "1703ffd4a9fa4989851c4437acbe576a": {
      "model_module": "@jupyter-widgets/controls",
      "model_module_version": "1.5.0",
      "model_name": "VBoxModel",
      "state": {
       "_dom_classes": [
        "widget-interact"
       ],
       "children": [
        "IPY_MODEL_e0e77c15a8144675953ae6160aa709e1",
        "IPY_MODEL_31fa5928071a4196bbf966bb65dfde83",
        "IPY_MODEL_5b15afb3bc324565b0294076e0d2d876",
        "IPY_MODEL_059fd5f81e4240a8b00b9ebf11ed321f",
        "IPY_MODEL_bac1c53183964768a7164041627f485d",
        "IPY_MODEL_17f02a9c0a3244ebb320bcdc19216146"
       ],
       "layout": "IPY_MODEL_4bdb9a787e974460a11dd6400c31c7c4"
      }
     },
     "17f02a9c0a3244ebb320bcdc19216146": {
      "model_module": "@jupyter-widgets/output",
      "model_module_version": "1.0.0",
      "model_name": "OutputModel",
      "state": {
       "layout": "IPY_MODEL_8966a0b78f9a4f20bb8416e5446a9e42"
      }
     },
     "1c4eb0149b994ca884297b03d734060a": {
      "model_module": "@jupyter-widgets/controls",
      "model_module_version": "1.5.0",
      "model_name": "VBoxModel",
      "state": {
       "_dom_classes": [
        "widget-interact"
       ],
       "children": [
        "IPY_MODEL_3ba3631b439d42f5821296f077509ed0",
        "IPY_MODEL_0d3cd35428f545778745646b7ea9f14c",
        "IPY_MODEL_b21c37ab8b574369b95b10d90db3a489",
        "IPY_MODEL_e45711f897994f2bb953a1affe1e0249",
        "IPY_MODEL_8632f0e405b5455c98f6f5ff8fb4c992",
        "IPY_MODEL_561a8ebbe02b4a9a9b2fc37f77809938"
       ],
       "layout": "IPY_MODEL_8f552fa749474fe18dd6be57cdc766fa"
      }
     },
     "21775a75f4a14852a48ce2a17b1858d0": {
      "model_module": "@jupyter-widgets/base",
      "model_module_version": "1.2.0",
      "model_name": "LayoutModel",
      "state": {}
     },
     "28465aa212994664b853495fece2a050": {
      "model_module": "@jupyter-widgets/controls",
      "model_module_version": "1.5.0",
      "model_name": "DropdownModel",
      "state": {
       "_options_labels": [
        "Steps (web plot)",
        "Lines",
        "None (Poincaré plot)"
       ],
       "description": "Web connections:",
       "index": 0,
       "layout": "IPY_MODEL_be59f596286c4e5ab3cc3cc336394c8e",
       "style": "IPY_MODEL_bd1c1ac5272c48b78a91773ca795c4bc"
      }
     },
     "2a7e546165b24f0cb125fb0193fe6b6a": {
      "model_module": "@jupyter-widgets/controls",
      "model_module_version": "1.5.0",
      "model_name": "SliderStyleModel",
      "state": {
       "description_width": ""
      }
     },
     "2a989af3b8e4481b9c01244b93720e07": {
      "model_module": "@jupyter-widgets/controls",
      "model_module_version": "1.5.0",
      "model_name": "DescriptionStyleModel",
      "state": {
       "description_width": "initial"
      }
     },
     "2c303767ea524c95895526859ee404a5": {
      "model_module": "@jupyter-widgets/controls",
      "model_module_version": "1.5.0",
      "model_name": "SliderStyleModel",
      "state": {
       "description_width": ""
      }
     },
     "2dc7180e0a4b42458c455cf50ecc8e5e": {
      "model_module": "@jupyter-widgets/controls",
      "model_module_version": "1.5.0",
      "model_name": "SliderStyleModel",
      "state": {
       "description_width": "initial"
      }
     },
     "2e1eb1a52f6041aaad8f84f0ef351609": {
      "model_module": "@jupyter-widgets/base",
      "model_module_version": "1.2.0",
      "model_name": "LayoutModel",
      "state": {}
     },
     "31fa5928071a4196bbf966bb65dfde83": {
      "model_module": "@jupyter-widgets/controls",
      "model_module_version": "1.5.0",
      "model_name": "IntSliderModel",
      "state": {
       "description": "$n_{max}$",
       "layout": "IPY_MODEL_31fbee941ba4492fa40aaacb80805ebf",
       "max": 500,
       "min": 2,
       "style": "IPY_MODEL_af8fc0e98ed9408cac356b31323a79bc",
       "value": 20
      }
     },
     "31fbee941ba4492fa40aaacb80805ebf": {
      "model_module": "@jupyter-widgets/base",
      "model_module_version": "1.2.0",
      "model_name": "LayoutModel",
      "state": {}
     },
     "3503224263fa4be0b94224f026829001": {
      "model_module": "@jupyter-widgets/controls",
      "model_module_version": "1.5.0",
      "model_name": "DescriptionStyleModel",
      "state": {
       "description_width": "initial"
      }
     },
     "36522d76c75a4dcda6ab59206f725f6a": {
      "model_module": "@jupyter-widgets/base",
      "model_module_version": "1.2.0",
      "model_name": "LayoutModel",
      "state": {}
     },
     "37362bd0a6fe49c0b40abe37c0126e29": {
      "model_module": "@jupyter-widgets/controls",
      "model_module_version": "1.5.0",
      "model_name": "SliderStyleModel",
      "state": {
       "description_width": "initial"
      }
     },
     "382a307369fd47b292d0a0fac9622cd6": {
      "model_module": "@jupyter-widgets/base",
      "model_module_version": "1.2.0",
      "model_name": "LayoutModel",
      "state": {}
     },
     "3ba3631b439d42f5821296f077509ed0": {
      "model_module": "@jupyter-widgets/controls",
      "model_module_version": "1.5.0",
      "model_name": "FloatSliderModel",
      "state": {
       "description": "$r$",
       "layout": "IPY_MODEL_c605db96ff064e6ab57e4d1ddade0613",
       "max": 4,
       "min": 1,
       "step": 0.02,
       "style": "IPY_MODEL_2c303767ea524c95895526859ee404a5",
       "value": 2.08
      }
     },
     "3fe57c638cf34496a0ef4326f29bac6d": {
      "model_module": "@jupyter-widgets/base",
      "model_module_version": "1.2.0",
      "model_name": "LayoutModel",
      "state": {}
     },
     "410ad151c44b4d20af3f30c3c3de50d5": {
      "model_module": "@jupyter-widgets/base",
      "model_module_version": "1.2.0",
      "model_name": "LayoutModel",
      "state": {}
     },
     "42eef7d2d26d4eca8ccfd79f5e75001b": {
      "model_module": "@jupyter-widgets/base",
      "model_module_version": "1.2.0",
      "model_name": "LayoutModel",
      "state": {}
     },
     "440747046ca84d51af75d9b6bfdfc704": {
      "model_module": "jupyter-matplotlib",
      "model_module_version": "^0.9.0",
      "model_name": "ToolbarModel",
      "state": {
       "layout": "IPY_MODEL_a738a08d40d24b9b806a8c19365ca299",
       "toolitems": [
        [
         "Home",
         "Reset original view",
         "home",
         "home"
        ],
        [
         "Back",
         "Back to previous view",
         "arrow-left",
         "back"
        ],
        [
         "Forward",
         "Forward to next view",
         "arrow-right",
         "forward"
        ],
        [
         "Pan",
         "Left button pans, Right button zooms\nx/y fixes axis, CTRL fixes aspect",
         "arrows",
         "pan"
        ],
        [
         "Zoom",
         "Zoom to rectangle\nx/y fixes axis, CTRL fixes aspect",
         "square-o",
         "zoom"
        ],
        [
         "Download",
         "Download plot",
         "floppy-o",
         "save_figure"
        ]
       ]
      }
     },
     "44efab9710da416fa1311453e6982036": {
      "model_module": "@jupyter-widgets/base",
      "model_module_version": "1.2.0",
      "model_name": "LayoutModel",
      "state": {}
     },
     "46381aded8474bb4b040c99d33a42fe1": {
      "model_module": "@jupyter-widgets/controls",
      "model_module_version": "1.5.0",
      "model_name": "FloatSliderModel",
      "state": {
       "description": "$x_0$",
       "layout": "IPY_MODEL_ff1ec09de2ca40d4ba7bb1e9bbbc6e50",
       "max": 1,
       "min": 0.1,
       "step": 0.1,
       "style": "IPY_MODEL_fa01d0a6378347968cec4153a97d3099",
       "value": 0.1
      }
     },
     "4972bdb7cad947f292143b29fed14505": {
      "model_module": "@jupyter-widgets/base",
      "model_module_version": "1.2.0",
      "model_name": "LayoutModel",
      "state": {}
     },
     "4bdb9a787e974460a11dd6400c31c7c4": {
      "model_module": "@jupyter-widgets/base",
      "model_module_version": "1.2.0",
      "model_name": "LayoutModel",
      "state": {}
     },
     "4fba023484e64308a66422ac7de3d220": {
      "model_module": "@jupyter-widgets/controls",
      "model_module_version": "1.5.0",
      "model_name": "SliderStyleModel",
      "state": {
       "description_width": ""
      }
     },
     "50bfa8c37a4d47268e89aebe3f0255ba": {
      "model_module": "@jupyter-widgets/base",
      "model_module_version": "1.2.0",
      "model_name": "LayoutModel",
      "state": {}
     },
     "51cb49a8e1b74f13aded985814449f31": {
      "model_module": "@jupyter-widgets/controls",
      "model_module_version": "1.5.0",
      "model_name": "SliderStyleModel",
      "state": {
       "description_width": ""
      }
     },
     "561a8ebbe02b4a9a9b2fc37f77809938": {
      "model_module": "@jupyter-widgets/output",
      "model_module_version": "1.0.0",
      "model_name": "OutputModel",
      "state": {
       "layout": "IPY_MODEL_3fe57c638cf34496a0ef4326f29bac6d",
       "outputs": [
        {
         "ename": "AttributeError",
         "evalue": "args",
         "output_type": "error",
         "traceback": [
          "\u001b[0;31m---------------------------------------------------------------------------\u001b[0m",
          "\u001b[0;31mAttributeError\u001b[0m                            Traceback (most recent call last)",
          "\u001b[0;32m~/Documents/Projects/Coding/Python/venvs/logisticmap/lib/python3.9/site-packages/ipywidgets/widgets/interaction.py\u001b[0m in \u001b[0;36mupdate\u001b[0;34m(self, *args)\u001b[0m\n\u001b[1;32m    254\u001b[0m                     \u001b[0mvalue\u001b[0m \u001b[0;34m=\u001b[0m \u001b[0mwidget\u001b[0m\u001b[0;34m.\u001b[0m\u001b[0mget_interact_value\u001b[0m\u001b[0;34m(\u001b[0m\u001b[0;34m)\u001b[0m\u001b[0;34m\u001b[0m\u001b[0;34m\u001b[0m\u001b[0m\n\u001b[1;32m    255\u001b[0m                     \u001b[0mself\u001b[0m\u001b[0;34m.\u001b[0m\u001b[0mkwargs\u001b[0m\u001b[0;34m[\u001b[0m\u001b[0mwidget\u001b[0m\u001b[0;34m.\u001b[0m\u001b[0m_kwarg\u001b[0m\u001b[0;34m]\u001b[0m \u001b[0;34m=\u001b[0m \u001b[0mvalue\u001b[0m\u001b[0;34m\u001b[0m\u001b[0;34m\u001b[0m\u001b[0m\n\u001b[0;32m--> 256\u001b[0;31m                 \u001b[0mself\u001b[0m\u001b[0;34m.\u001b[0m\u001b[0mresult\u001b[0m \u001b[0;34m=\u001b[0m \u001b[0mself\u001b[0m\u001b[0;34m.\u001b[0m\u001b[0mf\u001b[0m\u001b[0;34m(\u001b[0m\u001b[0;34m**\u001b[0m\u001b[0mself\u001b[0m\u001b[0;34m.\u001b[0m\u001b[0mkwargs\u001b[0m\u001b[0;34m)\u001b[0m\u001b[0;34m\u001b[0m\u001b[0;34m\u001b[0m\u001b[0m\n\u001b[0m\u001b[1;32m    257\u001b[0m                 \u001b[0mshow_inline_matplotlib_plots\u001b[0m\u001b[0;34m(\u001b[0m\u001b[0;34m)\u001b[0m\u001b[0;34m\u001b[0m\u001b[0;34m\u001b[0m\u001b[0m\n\u001b[1;32m    258\u001b[0m                 \u001b[0;32mif\u001b[0m \u001b[0mself\u001b[0m\u001b[0;34m.\u001b[0m\u001b[0mauto_display\u001b[0m \u001b[0;32mand\u001b[0m \u001b[0mself\u001b[0m\u001b[0;34m.\u001b[0m\u001b[0mresult\u001b[0m \u001b[0;32mis\u001b[0m \u001b[0;32mnot\u001b[0m \u001b[0;32mNone\u001b[0m\u001b[0;34m:\u001b[0m\u001b[0;34m\u001b[0m\u001b[0;34m\u001b[0m\u001b[0m\n",
          "\u001b[0;32m/var/folders/b6/3rk65h797p7407x7d36sqn9c0000gn/T/ipykernel_87662/3498883113.py\u001b[0m in \u001b[0;36mplot_logistic\u001b[0;34m(r, steps, x0, connect_points, bif_steps_min)\u001b[0m\n\u001b[1;32m     32\u001b[0m \u001b[0;32mdef\u001b[0m \u001b[0mplot_logistic\u001b[0m\u001b[0;34m(\u001b[0m\u001b[0mr\u001b[0m\u001b[0;34m,\u001b[0m \u001b[0msteps\u001b[0m\u001b[0;34m,\u001b[0m \u001b[0mx0\u001b[0m\u001b[0;34m,\u001b[0m \u001b[0mconnect_points\u001b[0m\u001b[0;34m,\u001b[0m \u001b[0mbif_steps_min\u001b[0m\u001b[0;34m)\u001b[0m\u001b[0;34m:\u001b[0m \u001b[0;31m#, style='mine'\u001b[0m\u001b[0;34m\u001b[0m\u001b[0;34m\u001b[0m\u001b[0m\n\u001b[1;32m     33\u001b[0m \u001b[0;34m\u001b[0m\u001b[0m\n\u001b[0;32m---> 34\u001b[0;31m     \u001b[0;32mwith\u001b[0m \u001b[0mdemo_style\u001b[0m\u001b[0;34m:\u001b[0m\u001b[0;34m\u001b[0m\u001b[0;34m\u001b[0m\u001b[0m\n\u001b[0m\u001b[1;32m     35\u001b[0m \u001b[0;34m\u001b[0m\u001b[0m\n\u001b[1;32m     36\u001b[0m         \u001b[0mfig\u001b[0m\u001b[0;34m.\u001b[0m\u001b[0msuptitle\u001b[0m\u001b[0;34m(\u001b[0m\u001b[0;34mf\"$x_n = r x_n (1-x_{{n-1}}); \\, x_0={x0:.2f}, \\,r={r:.2f}, \\,n \\in \\{{ 0,\\ldots,{steps} \\}}$\"\u001b[0m\u001b[0;34m,\u001b[0m \u001b[0mfontsize\u001b[0m\u001b[0;34m=\u001b[0m\u001b[0;36m11\u001b[0m\u001b[0;34m)\u001b[0m\u001b[0;34m\u001b[0m\u001b[0;34m\u001b[0m\u001b[0m\n",
          "\u001b[0;32m/usr/local/Cellar/python@3.9/3.9.6/Frameworks/Python.framework/Versions/3.9/lib/python3.9/contextlib.py\u001b[0m in \u001b[0;36m__enter__\u001b[0;34m(self)\u001b[0m\n\u001b[1;32m    113\u001b[0m         \u001b[0;31m# do not keep args and kwds alive unnecessarily\u001b[0m\u001b[0;34m\u001b[0m\u001b[0;34m\u001b[0m\u001b[0;34m\u001b[0m\u001b[0m\n\u001b[1;32m    114\u001b[0m         \u001b[0;31m# they are only needed for recreation, which is not possible anymore\u001b[0m\u001b[0;34m\u001b[0m\u001b[0;34m\u001b[0m\u001b[0;34m\u001b[0m\u001b[0m\n\u001b[0;32m--> 115\u001b[0;31m         \u001b[0;32mdel\u001b[0m \u001b[0mself\u001b[0m\u001b[0;34m.\u001b[0m\u001b[0margs\u001b[0m\u001b[0;34m,\u001b[0m \u001b[0mself\u001b[0m\u001b[0;34m.\u001b[0m\u001b[0mkwds\u001b[0m\u001b[0;34m,\u001b[0m \u001b[0mself\u001b[0m\u001b[0;34m.\u001b[0m\u001b[0mfunc\u001b[0m\u001b[0;34m\u001b[0m\u001b[0;34m\u001b[0m\u001b[0m\n\u001b[0m\u001b[1;32m    116\u001b[0m         \u001b[0;32mtry\u001b[0m\u001b[0;34m:\u001b[0m\u001b[0;34m\u001b[0m\u001b[0;34m\u001b[0m\u001b[0m\n\u001b[1;32m    117\u001b[0m             \u001b[0;32mreturn\u001b[0m \u001b[0mnext\u001b[0m\u001b[0;34m(\u001b[0m\u001b[0mself\u001b[0m\u001b[0;34m.\u001b[0m\u001b[0mgen\u001b[0m\u001b[0;34m)\u001b[0m\u001b[0;34m\u001b[0m\u001b[0;34m\u001b[0m\u001b[0m\n",
          "\u001b[0;31mAttributeError\u001b[0m: args"
         ]
        }
       ]
      }
     },
     "59ddae2752254d0fb1052447d8f2fb10": {
      "model_module": "@jupyter-widgets/base",
      "model_module_version": "1.2.0",
      "model_name": "LayoutModel",
      "state": {}
     },
     "5b0da2a2651c4ba189229535743b0970": {
      "model_module": "@jupyter-widgets/base",
      "model_module_version": "1.2.0",
      "model_name": "LayoutModel",
      "state": {}
     },
     "5b15afb3bc324565b0294076e0d2d876": {
      "model_module": "@jupyter-widgets/controls",
      "model_module_version": "1.5.0",
      "model_name": "FloatSliderModel",
      "state": {
       "description": "$x_0$",
       "layout": "IPY_MODEL_5b0da2a2651c4ba189229535743b0970",
       "max": 1,
       "min": 0.1,
       "step": 0.1,
       "style": "IPY_MODEL_c5be377137464c01a62aaf5a3e629fe3",
       "value": 0.1
      }
     },
     "5b974d82916542209ff6c12ba90ed08b": {
      "model_module": "@jupyter-widgets/base",
      "model_module_version": "1.2.0",
      "model_name": "LayoutModel",
      "state": {}
     },
     "5c1f5e5aea8741a9987d02c1665f266b": {
      "model_module": "jupyter-matplotlib",
      "model_module_version": "^0.9.0",
      "model_name": "MPLCanvasModel",
      "state": {
       "_cursor": "default",
       "_figure_label": "Figure 2",
       "_height": 400,
       "_image_mode": "diff",
       "_width": 1200,
       "layout": "IPY_MODEL_ffa3bcd2536443758840cfbbcea17af0",
       "toolbar": "IPY_MODEL_f0088ab7b9ec4f939d215e192a1159d8",
       "toolbar_position": "left"
      }
     },
     "5c8d367d70c94c66bea6bb565f2bd5d1": {
      "model_module": "@jupyter-widgets/base",
      "model_module_version": "1.2.0",
      "model_name": "LayoutModel",
      "state": {}
     },
     "63f41a889c08468ea528cb2bf9b6cec4": {
      "model_module": "@jupyter-widgets/controls",
      "model_module_version": "1.5.0",
      "model_name": "IntSliderModel",
      "state": {
       "description": "Min step in bifrucation:",
       "layout": "IPY_MODEL_382a307369fd47b292d0a0fac9622cd6",
       "max": 460,
       "style": "IPY_MODEL_2dc7180e0a4b42458c455cf50ecc8e5e",
       "value": 460
      }
     },
     "65a8026aa6454d7880fe06114cb9e0ba": {
      "model_module": "@jupyter-widgets/base",
      "model_module_version": "1.2.0",
      "model_name": "LayoutModel",
      "state": {}
     },
     "66975fd33b854c6884912d913731d3ad": {
      "model_module": "@jupyter-widgets/base",
      "model_module_version": "1.2.0",
      "model_name": "LayoutModel",
      "state": {}
     },
     "6c35254d1cf64e6e86c997efff9e2001": {
      "model_module": "@jupyter-widgets/controls",
      "model_module_version": "1.5.0",
      "model_name": "IntSliderModel",
      "state": {
       "description": "$n_{max}$",
       "layout": "IPY_MODEL_59ddae2752254d0fb1052447d8f2fb10",
       "max": 500,
       "min": 2,
       "style": "IPY_MODEL_08d3fc666e574900afd719b90bcd5852",
       "value": 20
      }
     },
     "6f6736f394a94a0a81af872c417a1077": {
      "model_module": "@jupyter-widgets/base",
      "model_module_version": "1.2.0",
      "model_name": "LayoutModel",
      "state": {}
     },
     "70c8fcd763f14d6d8f96bfdcafeb11a7": {
      "model_module": "@jupyter-widgets/controls",
      "model_module_version": "1.5.0",
      "model_name": "SliderStyleModel",
      "state": {
       "description_width": ""
      }
     },
     "7186fb359e1d45b5b7e7dfa7aa2d003b": {
      "model_module": "@jupyter-widgets/base",
      "model_module_version": "1.2.0",
      "model_name": "LayoutModel",
      "state": {}
     },
     "754728127d8f4f78915e219af1448db6": {
      "model_module": "@jupyter-widgets/base",
      "model_module_version": "1.2.0",
      "model_name": "LayoutModel",
      "state": {}
     },
     "773fdd2972c3428c9fa463afef258a8e": {
      "model_module": "@jupyter-widgets/controls",
      "model_module_version": "1.5.0",
      "model_name": "FloatSliderModel",
      "state": {
       "description": "$r$",
       "layout": "IPY_MODEL_aea8a6d6f9664d4d835c21fdaec10dcd",
       "max": 4,
       "min": 1,
       "step": 0.02,
       "style": "IPY_MODEL_51cb49a8e1b74f13aded985814449f31",
       "value": 2.02
      }
     },
     "77f123510b08421d97a262eb961849c2": {
      "model_module": "@jupyter-widgets/base",
      "model_module_version": "1.2.0",
      "model_name": "LayoutModel",
      "state": {}
     },
     "7893c4e8fd9b4c4db0a45c5dd42999e6": {
      "model_module": "@jupyter-widgets/base",
      "model_module_version": "1.2.0",
      "model_name": "LayoutModel",
      "state": {}
     },
     "79ac12b8c38b4671ae4c9b9b64c40f75": {
      "model_module": "@jupyter-widgets/base",
      "model_module_version": "1.2.0",
      "model_name": "LayoutModel",
      "state": {}
     },
     "7b37e114684e428285decce18fdd67e4": {
      "model_module": "@jupyter-widgets/base",
      "model_module_version": "1.2.0",
      "model_name": "LayoutModel",
      "state": {}
     },
     "7fdab60704b941a991400b861e78f38d": {
      "model_module": "@jupyter-widgets/output",
      "model_module_version": "1.0.0",
      "model_name": "OutputModel",
      "state": {
       "layout": "IPY_MODEL_77f123510b08421d97a262eb961849c2"
      }
     },
     "84f430a212a348fc97f71e28dffae375": {
      "model_module": "@jupyter-widgets/controls",
      "model_module_version": "1.5.0",
      "model_name": "SliderStyleModel",
      "state": {
       "description_width": ""
      }
     },
     "8632f0e405b5455c98f6f5ff8fb4c992": {
      "model_module": "@jupyter-widgets/controls",
      "model_module_version": "1.5.0",
      "model_name": "IntSliderModel",
      "state": {
       "description": "Min step in bifrucation:",
       "layout": "IPY_MODEL_bfe5596bd50e40c6af470232aad12551",
       "max": 460,
       "style": "IPY_MODEL_10ea78e5ca1844a8a9d90fa8dce7c1f6",
       "value": 460
      }
     },
     "87743e54ee224caeab963203081d9e82": {
      "model_module": "@jupyter-widgets/output",
      "model_module_version": "1.0.0",
      "model_name": "OutputModel",
      "state": {
       "layout": "IPY_MODEL_07bcd94c9bd4419d993b24fab9966c34",
       "outputs": [
        {
         "ename": "AttributeError",
         "evalue": "args",
         "output_type": "error",
         "traceback": [
          "\u001b[0;31m---------------------------------------------------------------------------\u001b[0m",
          "\u001b[0;31mAttributeError\u001b[0m                            Traceback (most recent call last)",
          "\u001b[0;32m~/Documents/Projects/Coding/Python/venvs/logisticmap/lib/python3.9/site-packages/ipywidgets/widgets/interaction.py\u001b[0m in \u001b[0;36mupdate\u001b[0;34m(self, *args)\u001b[0m\n\u001b[1;32m    254\u001b[0m                     \u001b[0mvalue\u001b[0m \u001b[0;34m=\u001b[0m \u001b[0mwidget\u001b[0m\u001b[0;34m.\u001b[0m\u001b[0mget_interact_value\u001b[0m\u001b[0;34m(\u001b[0m\u001b[0;34m)\u001b[0m\u001b[0;34m\u001b[0m\u001b[0;34m\u001b[0m\u001b[0m\n\u001b[1;32m    255\u001b[0m                     \u001b[0mself\u001b[0m\u001b[0;34m.\u001b[0m\u001b[0mkwargs\u001b[0m\u001b[0;34m[\u001b[0m\u001b[0mwidget\u001b[0m\u001b[0;34m.\u001b[0m\u001b[0m_kwarg\u001b[0m\u001b[0;34m]\u001b[0m \u001b[0;34m=\u001b[0m \u001b[0mvalue\u001b[0m\u001b[0;34m\u001b[0m\u001b[0;34m\u001b[0m\u001b[0m\n\u001b[0;32m--> 256\u001b[0;31m                 \u001b[0mself\u001b[0m\u001b[0;34m.\u001b[0m\u001b[0mresult\u001b[0m \u001b[0;34m=\u001b[0m \u001b[0mself\u001b[0m\u001b[0;34m.\u001b[0m\u001b[0mf\u001b[0m\u001b[0;34m(\u001b[0m\u001b[0;34m**\u001b[0m\u001b[0mself\u001b[0m\u001b[0;34m.\u001b[0m\u001b[0mkwargs\u001b[0m\u001b[0;34m)\u001b[0m\u001b[0;34m\u001b[0m\u001b[0;34m\u001b[0m\u001b[0m\n\u001b[0m\u001b[1;32m    257\u001b[0m                 \u001b[0mshow_inline_matplotlib_plots\u001b[0m\u001b[0;34m(\u001b[0m\u001b[0;34m)\u001b[0m\u001b[0;34m\u001b[0m\u001b[0;34m\u001b[0m\u001b[0m\n\u001b[1;32m    258\u001b[0m                 \u001b[0;32mif\u001b[0m \u001b[0mself\u001b[0m\u001b[0;34m.\u001b[0m\u001b[0mauto_display\u001b[0m \u001b[0;32mand\u001b[0m \u001b[0mself\u001b[0m\u001b[0;34m.\u001b[0m\u001b[0mresult\u001b[0m \u001b[0;32mis\u001b[0m \u001b[0;32mnot\u001b[0m \u001b[0;32mNone\u001b[0m\u001b[0;34m:\u001b[0m\u001b[0;34m\u001b[0m\u001b[0;34m\u001b[0m\u001b[0m\n",
          "\u001b[0;32m/var/folders/b6/3rk65h797p7407x7d36sqn9c0000gn/T/ipykernel_87662/3498883113.py\u001b[0m in \u001b[0;36mplot_logistic\u001b[0;34m(r, steps, x0, connect_points, bif_steps_min)\u001b[0m\n\u001b[1;32m     32\u001b[0m \u001b[0;32mdef\u001b[0m \u001b[0mplot_logistic\u001b[0m\u001b[0;34m(\u001b[0m\u001b[0mr\u001b[0m\u001b[0;34m,\u001b[0m \u001b[0msteps\u001b[0m\u001b[0;34m,\u001b[0m \u001b[0mx0\u001b[0m\u001b[0;34m,\u001b[0m \u001b[0mconnect_points\u001b[0m\u001b[0;34m,\u001b[0m \u001b[0mbif_steps_min\u001b[0m\u001b[0;34m)\u001b[0m\u001b[0;34m:\u001b[0m \u001b[0;31m#, style='mine'\u001b[0m\u001b[0;34m\u001b[0m\u001b[0;34m\u001b[0m\u001b[0m\n\u001b[1;32m     33\u001b[0m \u001b[0;34m\u001b[0m\u001b[0m\n\u001b[0;32m---> 34\u001b[0;31m     \u001b[0;32mwith\u001b[0m \u001b[0mdemo_style\u001b[0m\u001b[0;34m:\u001b[0m\u001b[0;34m\u001b[0m\u001b[0;34m\u001b[0m\u001b[0m\n\u001b[0m\u001b[1;32m     35\u001b[0m \u001b[0;34m\u001b[0m\u001b[0m\n\u001b[1;32m     36\u001b[0m         \u001b[0mfig\u001b[0m\u001b[0;34m.\u001b[0m\u001b[0msuptitle\u001b[0m\u001b[0;34m(\u001b[0m\u001b[0;34mf\"$x_n = r x_n (1-x_{{n-1}}); \\, x_0={x0:.2f}, \\,r={r:.2f}, \\,n \\in \\{{ 0,\\ldots,{steps} \\}}$\"\u001b[0m\u001b[0;34m,\u001b[0m \u001b[0mfontsize\u001b[0m\u001b[0;34m=\u001b[0m\u001b[0;36m11\u001b[0m\u001b[0;34m)\u001b[0m\u001b[0;34m\u001b[0m\u001b[0;34m\u001b[0m\u001b[0m\n",
          "\u001b[0;32m/usr/local/Cellar/python@3.9/3.9.6/Frameworks/Python.framework/Versions/3.9/lib/python3.9/contextlib.py\u001b[0m in \u001b[0;36m__enter__\u001b[0;34m(self)\u001b[0m\n\u001b[1;32m    113\u001b[0m         \u001b[0;31m# do not keep args and kwds alive unnecessarily\u001b[0m\u001b[0;34m\u001b[0m\u001b[0;34m\u001b[0m\u001b[0;34m\u001b[0m\u001b[0m\n\u001b[1;32m    114\u001b[0m         \u001b[0;31m# they are only needed for recreation, which is not possible anymore\u001b[0m\u001b[0;34m\u001b[0m\u001b[0;34m\u001b[0m\u001b[0;34m\u001b[0m\u001b[0m\n\u001b[0;32m--> 115\u001b[0;31m         \u001b[0;32mdel\u001b[0m \u001b[0mself\u001b[0m\u001b[0;34m.\u001b[0m\u001b[0margs\u001b[0m\u001b[0;34m,\u001b[0m \u001b[0mself\u001b[0m\u001b[0;34m.\u001b[0m\u001b[0mkwds\u001b[0m\u001b[0;34m,\u001b[0m \u001b[0mself\u001b[0m\u001b[0;34m.\u001b[0m\u001b[0mfunc\u001b[0m\u001b[0;34m\u001b[0m\u001b[0;34m\u001b[0m\u001b[0m\n\u001b[0m\u001b[1;32m    116\u001b[0m         \u001b[0;32mtry\u001b[0m\u001b[0;34m:\u001b[0m\u001b[0;34m\u001b[0m\u001b[0;34m\u001b[0m\u001b[0m\n\u001b[1;32m    117\u001b[0m             \u001b[0;32mreturn\u001b[0m \u001b[0mnext\u001b[0m\u001b[0;34m(\u001b[0m\u001b[0mself\u001b[0m\u001b[0;34m.\u001b[0m\u001b[0mgen\u001b[0m\u001b[0;34m)\u001b[0m\u001b[0;34m\u001b[0m\u001b[0;34m\u001b[0m\u001b[0m\n",
          "\u001b[0;31mAttributeError\u001b[0m: args"
         ]
        }
       ]
      }
     },
     "8966a0b78f9a4f20bb8416e5446a9e42": {
      "model_module": "@jupyter-widgets/base",
      "model_module_version": "1.2.0",
      "model_name": "LayoutModel",
      "state": {}
     },
     "8c66d5b0320140a6b2835fa4e8086879": {
      "model_module": "@jupyter-widgets/base",
      "model_module_version": "1.2.0",
      "model_name": "LayoutModel",
      "state": {}
     },
     "8cbe912395004f878a80e44ad72f0ef5": {
      "model_module": "jupyter-matplotlib",
      "model_module_version": "^0.9.0",
      "model_name": "MPLCanvasModel",
      "state": {
       "_cursor": "default",
       "_figure_label": "Figure 5",
       "_height": 400,
       "_image_mode": "diff",
       "_width": 1200,
       "layout": "IPY_MODEL_4972bdb7cad947f292143b29fed14505",
       "toolbar": "IPY_MODEL_bf51b40f80b44701b03748071902dcfe",
       "toolbar_position": "left"
      }
     },
     "8d74dbc88aad4c04887d6bac8c2e5a02": {
      "model_module": "@jupyter-widgets/base",
      "model_module_version": "1.2.0",
      "model_name": "LayoutModel",
      "state": {}
     },
     "8f552fa749474fe18dd6be57cdc766fa": {
      "model_module": "@jupyter-widgets/base",
      "model_module_version": "1.2.0",
      "model_name": "LayoutModel",
      "state": {}
     },
     "91899465ecb74f60a7dce05eecc2023f": {
      "model_module": "@jupyter-widgets/base",
      "model_module_version": "1.2.0",
      "model_name": "LayoutModel",
      "state": {}
     },
     "9c139d7b3ad64057886921cb46f49785": {
      "model_module": "jupyter-matplotlib",
      "model_module_version": "^0.9.0",
      "model_name": "ToolbarModel",
      "state": {
       "layout": "IPY_MODEL_79ac12b8c38b4671ae4c9b9b64c40f75",
       "toolitems": [
        [
         "Home",
         "Reset original view",
         "home",
         "home"
        ],
        [
         "Back",
         "Back to previous view",
         "arrow-left",
         "back"
        ],
        [
         "Forward",
         "Forward to next view",
         "arrow-right",
         "forward"
        ],
        [
         "Pan",
         "Left button pans, Right button zooms\nx/y fixes axis, CTRL fixes aspect",
         "arrows",
         "pan"
        ],
        [
         "Zoom",
         "Zoom to rectangle\nx/y fixes axis, CTRL fixes aspect",
         "square-o",
         "zoom"
        ],
        [
         "Download",
         "Download plot",
         "floppy-o",
         "save_figure"
        ]
       ]
      }
     },
     "9f384325fab64e7b8b67c6f9513e3a1a": {
      "model_module": "@jupyter-widgets/controls",
      "model_module_version": "1.5.0",
      "model_name": "VBoxModel",
      "state": {
       "_dom_classes": [
        "widget-interact"
       ],
       "children": [
        "IPY_MODEL_773fdd2972c3428c9fa463afef258a8e",
        "IPY_MODEL_a823759fb86d4692976d63a25104e858",
        "IPY_MODEL_fd4587e96f1042059a35ae94f9e43d06",
        "IPY_MODEL_28465aa212994664b853495fece2a050",
        "IPY_MODEL_63f41a889c08468ea528cb2bf9b6cec4",
        "IPY_MODEL_87743e54ee224caeab963203081d9e82"
       ],
       "layout": "IPY_MODEL_7b37e114684e428285decce18fdd67e4"
      }
     },
     "a1d1fa0a80414d05bdf67c0a1e390264": {
      "model_module": "@jupyter-widgets/controls",
      "model_module_version": "1.5.0",
      "model_name": "VBoxModel",
      "state": {
       "_dom_classes": [
        "widget-interact"
       ],
       "children": [
        "IPY_MODEL_b3b997a52cdc47f387e1a86e30b462e4",
        "IPY_MODEL_6c35254d1cf64e6e86c997efff9e2001",
        "IPY_MODEL_01004a3225ce404fb36e9c931f2542f4",
        "IPY_MODEL_dccaabb190444a74871e673466557964",
        "IPY_MODEL_03ad284508f44fd8adff4b9ce75d0e76",
        "IPY_MODEL_7fdab60704b941a991400b861e78f38d"
       ],
       "layout": "IPY_MODEL_2e1eb1a52f6041aaad8f84f0ef351609"
      }
     },
     "a672d5fac7414c3594fb65767dcea3d9": {
      "model_module": "@jupyter-widgets/base",
      "model_module_version": "1.2.0",
      "model_name": "LayoutModel",
      "state": {}
     },
     "a738a08d40d24b9b806a8c19365ca299": {
      "model_module": "@jupyter-widgets/base",
      "model_module_version": "1.2.0",
      "model_name": "LayoutModel",
      "state": {}
     },
     "a75387f4933a449f9c7ee71e7f75a60a": {
      "model_module": "@jupyter-widgets/controls",
      "model_module_version": "1.5.0",
      "model_name": "VBoxModel",
      "state": {
       "_dom_classes": [
        "widget-interact"
       ],
       "children": [
        "IPY_MODEL_db33ce5129904231acefa0974a73b800",
        "IPY_MODEL_d335134856964345b73d77d0168efb9d",
        "IPY_MODEL_46381aded8474bb4b040c99d33a42fe1",
        "IPY_MODEL_c9d9a558792a493cbe0fd7c0908c55ba",
        "IPY_MODEL_e51720263b3348e49249d6a2f92fee8c",
        "IPY_MODEL_0fdd1ecc4ec343eebb9d2e3828625dea"
       ],
       "layout": "IPY_MODEL_5c8d367d70c94c66bea6bb565f2bd5d1"
      }
     },
     "a823759fb86d4692976d63a25104e858": {
      "model_module": "@jupyter-widgets/controls",
      "model_module_version": "1.5.0",
      "model_name": "IntSliderModel",
      "state": {
       "description": "$n_{max}$",
       "layout": "IPY_MODEL_a672d5fac7414c3594fb65767dcea3d9",
       "max": 500,
       "min": 2,
       "style": "IPY_MODEL_70c8fcd763f14d6d8f96bfdcafeb11a7",
       "value": 20
      }
     },
     "a99def3b39454287ba088bcd266efa60": {
      "model_module": "@jupyter-widgets/base",
      "model_module_version": "1.2.0",
      "model_name": "LayoutModel",
      "state": {}
     },
     "abeb12eeeccd4ca09bb98f1f1259f5d0": {
      "model_module": "@jupyter-widgets/controls",
      "model_module_version": "1.5.0",
      "model_name": "SliderStyleModel",
      "state": {
       "description_width": ""
      }
     },
     "ae8d73a792164573aa41ae37a029d990": {
      "model_module": "@jupyter-widgets/controls",
      "model_module_version": "1.5.0",
      "model_name": "DescriptionStyleModel",
      "state": {
       "description_width": "initial"
      }
     },
     "aea8a6d6f9664d4d835c21fdaec10dcd": {
      "model_module": "@jupyter-widgets/base",
      "model_module_version": "1.2.0",
      "model_name": "LayoutModel",
      "state": {}
     },
     "aee44e4b1a1e4cb7a420544bb81f6fb7": {
      "model_module": "jupyter-matplotlib",
      "model_module_version": "^0.9.0",
      "model_name": "MPLCanvasModel",
      "state": {
       "_cursor": "default",
       "_figure_label": "Figure 1",
       "_height": 400,
       "_image_mode": "diff",
       "_width": 1200,
       "layout": "IPY_MODEL_0057cd0009624e599dc874e1ae91d3ba",
       "toolbar": "IPY_MODEL_9c139d7b3ad64057886921cb46f49785",
       "toolbar_position": "left"
      }
     },
     "af3ab770ec0c4f5db79f580606cb2d39": {
      "model_module": "@jupyter-widgets/controls",
      "model_module_version": "1.5.0",
      "model_name": "SliderStyleModel",
      "state": {
       "description_width": "initial"
      }
     },
     "af8fc0e98ed9408cac356b31323a79bc": {
      "model_module": "@jupyter-widgets/controls",
      "model_module_version": "1.5.0",
      "model_name": "SliderStyleModel",
      "state": {
       "description_width": ""
      }
     },
     "b21c37ab8b574369b95b10d90db3a489": {
      "model_module": "@jupyter-widgets/controls",
      "model_module_version": "1.5.0",
      "model_name": "FloatSliderModel",
      "state": {
       "description": "$x_0$",
       "layout": "IPY_MODEL_21775a75f4a14852a48ce2a17b1858d0",
       "max": 1,
       "min": 0.1,
       "step": 0.1,
       "style": "IPY_MODEL_084c79cb7ba74edeaf690df8635c1e3d",
       "value": 0.1
      }
     },
     "b3a12e3b5ef341b7b32beee61b3cfa09": {
      "model_module": "@jupyter-widgets/controls",
      "model_module_version": "1.5.0",
      "model_name": "SliderStyleModel",
      "state": {
       "description_width": ""
      }
     },
     "b3b997a52cdc47f387e1a86e30b462e4": {
      "model_module": "@jupyter-widgets/controls",
      "model_module_version": "1.5.0",
      "model_name": "FloatSliderModel",
      "state": {
       "description": "$r$",
       "layout": "IPY_MODEL_7893c4e8fd9b4c4db0a45c5dd42999e6",
       "max": 4,
       "min": 1,
       "step": 0.02,
       "style": "IPY_MODEL_84f430a212a348fc97f71e28dffae375",
       "value": 3.08
      }
     },
     "ba85720b6e754ff7843199bcc1e6ce76": {
      "model_module": "jupyter-matplotlib",
      "model_module_version": "^0.9.0",
      "model_name": "ToolbarModel",
      "state": {
       "layout": "IPY_MODEL_6f6736f394a94a0a81af872c417a1077",
       "toolitems": [
        [
         "Home",
         "Reset original view",
         "home",
         "home"
        ],
        [
         "Back",
         "Back to previous view",
         "arrow-left",
         "back"
        ],
        [
         "Forward",
         "Forward to next view",
         "arrow-right",
         "forward"
        ],
        [
         "Pan",
         "Left button pans, Right button zooms\nx/y fixes axis, CTRL fixes aspect",
         "arrows",
         "pan"
        ],
        [
         "Zoom",
         "Zoom to rectangle\nx/y fixes axis, CTRL fixes aspect",
         "square-o",
         "zoom"
        ],
        [
         "Download",
         "Download plot",
         "floppy-o",
         "save_figure"
        ]
       ]
      }
     },
     "bac1c53183964768a7164041627f485d": {
      "model_module": "@jupyter-widgets/controls",
      "model_module_version": "1.5.0",
      "model_name": "IntSliderModel",
      "state": {
       "description": "Min step in bifrucation:",
       "layout": "IPY_MODEL_410ad151c44b4d20af3f30c3c3de50d5",
       "max": 460,
       "style": "IPY_MODEL_37362bd0a6fe49c0b40abe37c0126e29",
       "value": 460
      }
     },
     "bd1c1ac5272c48b78a91773ca795c4bc": {
      "model_module": "@jupyter-widgets/controls",
      "model_module_version": "1.5.0",
      "model_name": "DescriptionStyleModel",
      "state": {
       "description_width": "initial"
      }
     },
     "be59f596286c4e5ab3cc3cc336394c8e": {
      "model_module": "@jupyter-widgets/base",
      "model_module_version": "1.2.0",
      "model_name": "LayoutModel",
      "state": {}
     },
     "bf51b40f80b44701b03748071902dcfe": {
      "model_module": "jupyter-matplotlib",
      "model_module_version": "^0.9.0",
      "model_name": "ToolbarModel",
      "state": {
       "layout": "IPY_MODEL_754728127d8f4f78915e219af1448db6",
       "toolitems": [
        [
         "Home",
         "Reset original view",
         "home",
         "home"
        ],
        [
         "Back",
         "Back to previous view",
         "arrow-left",
         "back"
        ],
        [
         "Forward",
         "Forward to next view",
         "arrow-right",
         "forward"
        ],
        [
         "Pan",
         "Left button pans, Right button zooms\nx/y fixes axis, CTRL fixes aspect",
         "arrows",
         "pan"
        ],
        [
         "Zoom",
         "Zoom to rectangle\nx/y fixes axis, CTRL fixes aspect",
         "square-o",
         "zoom"
        ],
        [
         "Download",
         "Download plot",
         "floppy-o",
         "save_figure"
        ]
       ]
      }
     },
     "bfe5596bd50e40c6af470232aad12551": {
      "model_module": "@jupyter-widgets/base",
      "model_module_version": "1.2.0",
      "model_name": "LayoutModel",
      "state": {}
     },
     "c1c7df9269d54649bbba64b0bd190f0c": {
      "model_module": "@jupyter-widgets/controls",
      "model_module_version": "1.5.0",
      "model_name": "SliderStyleModel",
      "state": {
       "description_width": ""
      }
     },
     "c5be377137464c01a62aaf5a3e629fe3": {
      "model_module": "@jupyter-widgets/controls",
      "model_module_version": "1.5.0",
      "model_name": "SliderStyleModel",
      "state": {
       "description_width": ""
      }
     },
     "c605db96ff064e6ab57e4d1ddade0613": {
      "model_module": "@jupyter-widgets/base",
      "model_module_version": "1.2.0",
      "model_name": "LayoutModel",
      "state": {}
     },
     "c9d9a558792a493cbe0fd7c0908c55ba": {
      "model_module": "@jupyter-widgets/controls",
      "model_module_version": "1.5.0",
      "model_name": "DropdownModel",
      "state": {
       "_options_labels": [
        "Steps (web plot)",
        "Lines",
        "None (Poincaré plot)"
       ],
       "description": "Web connections:",
       "index": 0,
       "layout": "IPY_MODEL_f3d29666e0194a48aabe054c103ed902",
       "style": "IPY_MODEL_2a989af3b8e4481b9c01244b93720e07"
      }
     },
     "d023a7b77d044f6d9ce3c97622d26b20": {
      "model_module": "jupyter-matplotlib",
      "model_module_version": "^0.9.0",
      "model_name": "MPLCanvasModel",
      "state": {
       "_cursor": "default",
       "_figure_label": "Figure 3",
       "_height": 400,
       "_width": 1200,
       "layout": "IPY_MODEL_f7723fb4a11d4f0cb6efe2b17c85a879",
       "toolbar": "IPY_MODEL_ba85720b6e754ff7843199bcc1e6ce76",
       "toolbar_position": "left"
      }
     },
     "d335134856964345b73d77d0168efb9d": {
      "model_module": "@jupyter-widgets/controls",
      "model_module_version": "1.5.0",
      "model_name": "IntSliderModel",
      "state": {
       "description": "$n_{max}$",
       "layout": "IPY_MODEL_66975fd33b854c6884912d913731d3ad",
       "max": 500,
       "min": 2,
       "style": "IPY_MODEL_e1b3216796684bfe973048f1ff5325e1",
       "value": 20
      }
     },
     "db33ce5129904231acefa0974a73b800": {
      "model_module": "@jupyter-widgets/controls",
      "model_module_version": "1.5.0",
      "model_name": "FloatSliderModel",
      "state": {
       "description": "$r$",
       "layout": "IPY_MODEL_36522d76c75a4dcda6ab59206f725f6a",
       "max": 4,
       "min": 1,
       "step": 0.02,
       "style": "IPY_MODEL_b3a12e3b5ef341b7b32beee61b3cfa09",
       "value": 2.4
      }
     },
     "dccaabb190444a74871e673466557964": {
      "model_module": "@jupyter-widgets/controls",
      "model_module_version": "1.5.0",
      "model_name": "DropdownModel",
      "state": {
       "_options_labels": [
        "Steps (web plot)",
        "Lines",
        "None (Poincaré plot)"
       ],
       "description": "Web connections:",
       "index": 0,
       "layout": "IPY_MODEL_8c66d5b0320140a6b2835fa4e8086879",
       "style": "IPY_MODEL_ed6a001e5b5b44198b26f1e899cbc0ba"
      }
     },
     "e00a387c82aa423dac94a3bdd0d04aa1": {
      "model_module": "@jupyter-widgets/controls",
      "model_module_version": "1.5.0",
      "model_name": "SliderStyleModel",
      "state": {
       "description_width": "initial"
      }
     },
     "e057e9faf6244908a6b231368dbf081c": {
      "model_module": "@jupyter-widgets/base",
      "model_module_version": "1.2.0",
      "model_name": "LayoutModel",
      "state": {}
     },
     "e0e77c15a8144675953ae6160aa709e1": {
      "model_module": "@jupyter-widgets/controls",
      "model_module_version": "1.5.0",
      "model_name": "FloatSliderModel",
      "state": {
       "description": "$r$",
       "layout": "IPY_MODEL_91899465ecb74f60a7dce05eecc2023f",
       "max": 4,
       "min": 1,
       "step": 0.02,
       "style": "IPY_MODEL_c1c7df9269d54649bbba64b0bd190f0c",
       "value": 3.36
      }
     },
     "e1b3216796684bfe973048f1ff5325e1": {
      "model_module": "@jupyter-widgets/controls",
      "model_module_version": "1.5.0",
      "model_name": "SliderStyleModel",
      "state": {
       "description_width": ""
      }
     },
     "e45711f897994f2bb953a1affe1e0249": {
      "model_module": "@jupyter-widgets/controls",
      "model_module_version": "1.5.0",
      "model_name": "DropdownModel",
      "state": {
       "_options_labels": [
        "Steps (web plot)",
        "Lines",
        "None (Poincaré plot)"
       ],
       "description": "Web connections:",
       "index": 0,
       "layout": "IPY_MODEL_65a8026aa6454d7880fe06114cb9e0ba",
       "style": "IPY_MODEL_ae8d73a792164573aa41ae37a029d990"
      }
     },
     "e51720263b3348e49249d6a2f92fee8c": {
      "model_module": "@jupyter-widgets/controls",
      "model_module_version": "1.5.0",
      "model_name": "IntSliderModel",
      "state": {
       "description": "Min step in bifrucation:",
       "layout": "IPY_MODEL_0f914ed726a1466f93e33bef66fda2d2",
       "max": 460,
       "style": "IPY_MODEL_af3ab770ec0c4f5db79f580606cb2d39",
       "value": 460
      }
     },
     "ed6a001e5b5b44198b26f1e899cbc0ba": {
      "model_module": "@jupyter-widgets/controls",
      "model_module_version": "1.5.0",
      "model_name": "DescriptionStyleModel",
      "state": {
       "description_width": "initial"
      }
     },
     "f0088ab7b9ec4f939d215e192a1159d8": {
      "model_module": "jupyter-matplotlib",
      "model_module_version": "^0.9.0",
      "model_name": "ToolbarModel",
      "state": {
       "layout": "IPY_MODEL_8d74dbc88aad4c04887d6bac8c2e5a02",
       "toolitems": [
        [
         "Home",
         "Reset original view",
         "home",
         "home"
        ],
        [
         "Back",
         "Back to previous view",
         "arrow-left",
         "back"
        ],
        [
         "Forward",
         "Forward to next view",
         "arrow-right",
         "forward"
        ],
        [
         "Pan",
         "Left button pans, Right button zooms\nx/y fixes axis, CTRL fixes aspect",
         "arrows",
         "pan"
        ],
        [
         "Zoom",
         "Zoom to rectangle\nx/y fixes axis, CTRL fixes aspect",
         "square-o",
         "zoom"
        ],
        [
         "Download",
         "Download plot",
         "floppy-o",
         "save_figure"
        ]
       ]
      }
     },
     "f3d29666e0194a48aabe054c103ed902": {
      "model_module": "@jupyter-widgets/base",
      "model_module_version": "1.2.0",
      "model_name": "LayoutModel",
      "state": {}
     },
     "f7723fb4a11d4f0cb6efe2b17c85a879": {
      "model_module": "@jupyter-widgets/base",
      "model_module_version": "1.2.0",
      "model_name": "LayoutModel",
      "state": {}
     },
     "fa01d0a6378347968cec4153a97d3099": {
      "model_module": "@jupyter-widgets/controls",
      "model_module_version": "1.5.0",
      "model_name": "SliderStyleModel",
      "state": {
       "description_width": ""
      }
     },
     "fd4587e96f1042059a35ae94f9e43d06": {
      "model_module": "@jupyter-widgets/controls",
      "model_module_version": "1.5.0",
      "model_name": "FloatSliderModel",
      "state": {
       "description": "$x_0$",
       "layout": "IPY_MODEL_e057e9faf6244908a6b231368dbf081c",
       "max": 1,
       "min": 0.1,
       "step": 0.1,
       "style": "IPY_MODEL_abeb12eeeccd4ca09bb98f1f1259f5d0",
       "value": 0.1
      }
     },
     "fdb11f4bea004eaf83a61465b1013908": {
      "model_module": "jupyter-matplotlib",
      "model_module_version": "^0.9.0",
      "model_name": "MPLCanvasModel",
      "state": {
       "_cursor": "default",
       "_figure_label": "Figure 4",
       "_height": 400,
       "_width": 1200,
       "layout": "IPY_MODEL_a99def3b39454287ba088bcd266efa60",
       "toolbar": "IPY_MODEL_440747046ca84d51af75d9b6bfdfc704",
       "toolbar_position": "left"
      }
     },
     "ff1ec09de2ca40d4ba7bb1e9bbbc6e50": {
      "model_module": "@jupyter-widgets/base",
      "model_module_version": "1.2.0",
      "model_name": "LayoutModel",
      "state": {}
     },
     "ffa3bcd2536443758840cfbbcea17af0": {
      "model_module": "@jupyter-widgets/base",
      "model_module_version": "1.2.0",
      "model_name": "LayoutModel",
      "state": {}
     }
    },
    "version_major": 2,
    "version_minor": 0
   }
  }
 },
 "nbformat": 4,
 "nbformat_minor": 4
}
